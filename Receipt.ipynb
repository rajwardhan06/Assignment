{
 "cells": [
  {
   "cell_type": "code",
   "execution_count": 1,
   "id": "949ff6fd-d363-40cf-94ea-cb75780c17ac",
   "metadata": {},
   "outputs": [],
   "source": [
    "import pandas as pd"
   ]
  },
  {
   "cell_type": "code",
   "execution_count": 2,
   "id": "0ff46f66-3acc-4e5d-9ff5-a7889c44ca9e",
   "metadata": {},
   "outputs": [],
   "source": [
    "#sample list of tax free items\n",
    "tax_free_items = ['chocolate','candy','coke','sandwich','pizza','burger','pills','sanitizer','masks','syrup','book']\n",
    "\n",
    "def receipt(items):\n",
    "    #preparing the input list.\n",
    "    items = int(input(\"Enter total no. of items :\")) #no of items in your receipt\n",
    "    input_list = {}\n",
    "    for i in range(items):\n",
    "        keys = input('Enter Item :') #enter item name\n",
    "        values = float(input('Enter Value :')) #enter item value\n",
    "        input_list[keys] = values\n",
    "        \n",
    "        #preparing the receipt\n",
    "        result = {}\n",
    "        total = 0\n",
    "        for key, value in input_list.items():\n",
    "            sales_tax = 0\n",
    "            import_duty = 0\n",
    "            #calculating sales tax\n",
    "            for i in tax_free_items:\n",
    "                if i in key.lower():\n",
    "                    sales_tax = 0\n",
    "                    break\n",
    "                else:\n",
    "                    sales_tax =round(0.1*(value)/.05)*.05\n",
    "                    \n",
    "            #calculating import duty\n",
    "            if 'imported' in key.lower():\n",
    "                import_duty = round(0.05*(value)/.05)*.05\n",
    "            else:\n",
    "                import_duty = 0\n",
    "            \n",
    "            value = value+sales_tax+import_duty\n",
    "            sales_tax= round((sales_tax+import_duty)/.05)*.05\n",
    "    \n",
    "            total = total+value\n",
    "\n",
    "            result[key] = value\n",
    "            \n",
    "            \n",
    "    print('\\n'.join(\"{}: {}\".format(k, v) for k, v in result.items()))\n",
    "    print('Sales Tax :',sales_tax)\n",
    "    print('Total :',total)"
   ]
  },
  {
   "cell_type": "code",
   "execution_count": 3,
   "id": "da695418-e0f4-4d0f-b5ce-b79db6e75c28",
   "metadata": {},
   "outputs": [
    {
     "name": "stdout",
     "output_type": "stream",
     "text": [
      "Enter total no. of items :2\n",
      "Enter Item :imported chocolate\n",
      "Enter Value :10.00\n",
      "Enter Item :imported perfume\n",
      "Enter Value :47.50\n",
      "imported chocolate: 10.5\n",
      "imported perfume: 54.65\n",
      "Sales Tax : 7.15\n",
      "Total : 65.15\n"
     ]
    }
   ],
   "source": [
    "#calling our receipt function\n",
    "\n",
    "# note: for imported items write 'imported' before item, ex= \"imported chocolate\"\n",
    "receipt(1)"
   ]
  },
  {
   "cell_type": "code",
   "execution_count": null,
   "id": "03f25e5e-e69d-4306-8c43-bdb7c8b07c99",
   "metadata": {},
   "outputs": [],
   "source": []
  }
 ],
 "metadata": {
  "kernelspec": {
   "display_name": "Python 3",
   "language": "python",
   "name": "python3"
  },
  "language_info": {
   "codemirror_mode": {
    "name": "ipython",
    "version": 3
   },
   "file_extension": ".py",
   "mimetype": "text/x-python",
   "name": "python",
   "nbconvert_exporter": "python",
   "pygments_lexer": "ipython3",
   "version": "3.8.8"
  }
 },
 "nbformat": 4,
 "nbformat_minor": 5
}
